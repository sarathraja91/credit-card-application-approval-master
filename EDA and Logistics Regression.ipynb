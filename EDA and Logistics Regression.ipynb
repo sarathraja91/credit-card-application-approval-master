{
 "cells": [
  {
   "cell_type": "code",
   "execution_count": 1,
   "metadata": {
    "colab": {
     "base_uri": "https://localhost:8080/",
     "height": 71
    },
    "colab_type": "code",
    "id": "NGTiX8nwQCDu",
    "outputId": "4486bb16-de43-471e-df22-80fe3e25799e"
   },
   "outputs": [
    {
     "name": "stderr",
     "output_type": "stream",
     "text": [
      "/usr/local/lib/python3.6/dist-packages/statsmodels/tools/_testing.py:19: FutureWarning: pandas.util.testing is deprecated. Use the functions in the public API at pandas.testing instead.\n",
      "  import pandas.util.testing as tm\n"
     ]
    }
   ],
   "source": [
    "import os\n",
    "import sys\n",
    "import pandas as pd\n",
    "import seaborn as sns"
   ]
  },
  {
   "cell_type": "code",
   "execution_count": 2,
   "metadata": {
    "colab": {},
    "colab_type": "code",
    "id": "oFq7HdBUQEG5"
   },
   "outputs": [],
   "source": [
    "!apt-get install openjdk-8-jdk-headless -qq > /dev/null\n",
    "!wget -q https://downloads.apache.org/spark/spark-2.4.5/spark-2.4.5-bin-hadoop2.7.tgz\n",
    "!tar xf spark-2.4.5-bin-hadoop2.7.tgz\n",
    "!pip install -q findspark\n",
    "os.environ[\"JAVA_HOME\"] = \"/usr/lib/jvm/java-8-openjdk-amd64\"\n",
    "os.environ[\"SPARK_HOME\"] = \"/content/spark-2.4.5-bin-hadoop2.7\""
   ]
  },
  {
   "cell_type": "code",
   "execution_count": 3,
   "metadata": {
    "colab": {},
    "colab_type": "code",
    "id": "yxV8CXjDQEc9"
   },
   "outputs": [],
   "source": [
    "import findspark\n",
    "findspark.init()\n",
    "from pyspark.sql import SparkSession\n",
    "spark = SparkSession.builder.appName('Mllib_CCA_Model').getOrCreate()"
   ]
  },
  {
   "cell_type": "markdown",
   "metadata": {
    "colab_type": "text",
    "id": "Tfx7T-7790oY"
   },
   "source": [
    "Load data from Local"
   ]
  },
  {
   "cell_type": "code",
   "execution_count": 4,
   "metadata": {
    "colab": {},
    "colab_type": "code",
    "id": "L7btrBZnQEkW"
   },
   "outputs": [],
   "source": [
    "credit_record_df = spark.read.csv('credit_record.csv', header=True, inferSchema=True)"
   ]
  },
  {
   "cell_type": "code",
   "execution_count": 5,
   "metadata": {
    "colab": {},
    "colab_type": "code",
    "id": "D_HTPM-yQFIA"
   },
   "outputs": [],
   "source": [
    "application_record_df = spark.read.csv('application_record.csv', header=True, inferSchema=True)"
   ]
  },
  {
   "cell_type": "markdown",
   "metadata": {
    "colab_type": "text",
    "id": "GXzPydU_J_He"
   },
   "source": [
    "What is the proportion of females in the applicant customer base?"
   ]
  },
  {
   "cell_type": "code",
   "execution_count": 6,
   "metadata": {
    "colab": {
     "base_uri": "https://localhost:8080/",
     "height": 136
    },
    "colab_type": "code",
    "id": "n55ngqrsOLsB",
    "outputId": "57ab74a0-5da9-476e-b1ed-8704c722fc8f"
   },
   "outputs": [
    {
     "name": "stdout",
     "output_type": "stream",
     "text": [
      "+-----------+------+-----------------+\n",
      "|CODE_GENDER| count|          Percent|\n",
      "+-----------+------+-----------------+\n",
      "|          F|294440|67.13836513839706|\n",
      "|          M|144117|32.86163486160294|\n",
      "+-----------+------+-----------------+\n",
      "\n"
     ]
    }
   ],
   "source": [
    "import pyspark.sql.functions as F\n",
    "from pyspark.sql.window import Window\n",
    "q1 = application_record_df.groupBy('CODE_GENDER').count() \\\n",
    ".withColumn('Percent', F.col('count')*100/F.sum('count').over(Window.partitionBy()))\n",
    "q1.show()"
   ]
  },
  {
   "cell_type": "markdown",
   "metadata": {
    "colab_type": "text",
    "id": "oGZmPGW6KJJp"
   },
   "source": [
    "Is house ownership higher among male applicants or female applicants?"
   ]
  },
  {
   "cell_type": "code",
   "execution_count": 7,
   "metadata": {
    "colab": {
     "base_uri": "https://localhost:8080/",
     "height": 136
    },
    "colab_type": "code",
    "id": "sdZunqb-Yc4P",
    "outputId": "753d002a-a2d4-4aac-9b6e-b8ee9066c725"
   },
   "outputs": [
    {
     "name": "stdout",
     "output_type": "stream",
     "text": [
      "+-----------+------+\n",
      "|CODE_GENDER| count|\n",
      "+-----------+------+\n",
      "|          F|208138|\n",
      "|          M| 95936|\n",
      "+-----------+------+\n",
      "\n"
     ]
    }
   ],
   "source": [
    "q2 = application_record_df.filter(F.col(\"FLAG_OWN_REALTY\")=='Y').groupBy('CODE_GENDER').count()\n",
    "q2.show()"
   ]
  },
  {
   "cell_type": "markdown",
   "metadata": {
    "colab_type": "text",
    "id": "SpE6mndQKM-l"
   },
   "source": [
    "Is there any correlation between income levels and education level?"
   ]
  },
  {
   "cell_type": "code",
   "execution_count": 8,
   "metadata": {
    "colab": {
     "base_uri": "https://localhost:8080/",
     "height": 34
    },
    "colab_type": "code",
    "id": "4XJDBbvMmwG3",
    "outputId": "d9973e7e-1e7c-4f8f-9b58-3e526a52b077"
   },
   "outputs": [
    {
     "data": {
      "text/plain": [
       "0.1599998041001609"
      ]
     },
     "execution_count": 8,
     "metadata": {
      "tags": []
     },
     "output_type": "execute_result"
    }
   ],
   "source": [
    "df1 = application_record_df.select('AMT_INCOME_TOTAL', 'NAME_EDUCATION_TYPE')\n",
    "from pyspark.ml.feature import StringIndexer\n",
    "\n",
    "indexer = StringIndexer(inputCol=\"NAME_EDUCATION_TYPE\", outputCol=\"education_level\")\n",
    "df1 = indexer.fit(df1).transform(df1)\n",
    "corr = df1.corr('AMT_INCOME_TOTAL', 'education_level')\n",
    "corr"
   ]
  },
  {
   "cell_type": "markdown",
   "metadata": {
    "colab_type": "text",
    "id": "g8at9T--KVEv"
   },
   "source": [
    "What is the average and median salary of the applicant base?"
   ]
  },
  {
   "cell_type": "code",
   "execution_count": 126,
   "metadata": {
    "colab": {},
    "colab_type": "code",
    "id": "PugFORANOv9o"
   },
   "outputs": [],
   "source": [
    "import numpy as np\n",
    "import math\n",
    "from pyspark.sql.types import FloatType\n",
    "from pyspark.sql.types import IntegerType"
   ]
  },
  {
   "cell_type": "code",
   "execution_count": null,
   "metadata": {
    "colab": {},
    "colab_type": "code",
    "id": "I9AwlkEDgPpF"
   },
   "outputs": [],
   "source": [
    "def f_median(x):\n",
    "  return float(np.median(x))\n",
    "\n",
    "get_median = F.udf(f_median, FloatType())\n",
    "\n",
    "application_record_df.select(\n",
    "    F.mean(F.col('AMT_INCOME_TOTAL')).alias('mean'),\n",
    "    get_median(F.collect_list('AMT_INCOME_TOTAL')).alias('median')    \n",
    ").show()"
   ]
  },
  {
   "cell_type": "markdown",
   "metadata": {
    "colab_type": "text",
    "id": "0bgBfsz9AXD_"
   },
   "source": [
    "All Customers which have defaulted in payment (NonPayment / delay in more than 60 days once are defaultes and Target value will be set to 1)"
   ]
  },
  {
   "cell_type": "code",
   "execution_count": 11,
   "metadata": {
    "colab": {},
    "colab_type": "code",
    "id": "hSZW2DnLBTbF"
   },
   "outputs": [],
   "source": [
    "credit_df = credit_record_df.withColumn(\"Target\", F.when(F.col(\"STATUS\").isin([2,3,4,5]), 1).otherwise(0) )"
   ]
  },
  {
   "cell_type": "code",
   "execution_count": 12,
   "metadata": {
    "colab": {},
    "colab_type": "code",
    "id": "ZlvxXnklHXPD"
   },
   "outputs": [],
   "source": [
    "credit_df = credit_df.groupBy('ID').agg(F.max('Target').alias('Target'))"
   ]
  },
  {
   "cell_type": "code",
   "execution_count": 110,
   "metadata": {
    "colab": {},
    "colab_type": "code",
    "id": "ykJ30N93DS1z"
   },
   "outputs": [],
   "source": [
    "analysis_data = credit_df.join(application_record_df, ['ID'])"
   ]
  },
  {
   "cell_type": "markdown",
   "metadata": {
    "colab_type": "text",
    "id": "zWXtryDIN0-_"
   },
   "source": [
    "Is the proportion of bad customers higher for people who own cars?"
   ]
  },
  {
   "cell_type": "code",
   "execution_count": null,
   "metadata": {
    "colab": {},
    "colab_type": "code",
    "id": "8rIv1vSpN7vH"
   },
   "outputs": [],
   "source": [
    "analysis_data.groupby('FLAG_OWN_CAR','target').count().show()"
   ]
  },
  {
   "cell_type": "markdown",
   "metadata": {
    "colab_type": "text",
    "id": "hfFwv6eROEDD"
   },
   "source": [
    "Do people living on rent have a higher proportion of bad customers compared to the rest of the population?"
   ]
  },
  {
   "cell_type": "code",
   "execution_count": null,
   "metadata": {
    "colab": {},
    "colab_type": "code",
    "id": "B1DYMEBTOM53"
   },
   "outputs": [],
   "source": [
    "analysis_data.groupby('NAME_HOUSING_TYPE','target').count().show()"
   ]
  },
  {
   "cell_type": "markdown",
   "metadata": {
    "colab_type": "text",
    "id": "inJALluROTvq"
   },
   "source": [
    "Do single customers have a high proportion of bad customers compared to married customers?"
   ]
  },
  {
   "cell_type": "code",
   "execution_count": null,
   "metadata": {
    "colab": {},
    "colab_type": "code",
    "id": "9fMTBpR_OYlQ"
   },
   "outputs": [],
   "source": [
    "analysis_data.groupby('NAME_FAMILY_STATUS','target').count().show()"
   ]
  },
  {
   "cell_type": "markdown",
   "metadata": {
    "colab_type": "text",
    "id": "-hrPhWpuKzvp"
   },
   "source": [
    "Check to see if we have missing value in the dataset"
   ]
  },
  {
   "cell_type": "code",
   "execution_count": null,
   "metadata": {
    "colab": {},
    "colab_type": "code",
    "id": "AyhZhJAWXevA"
   },
   "outputs": [],
   "source": [
    "def count_missing(spark_df):\n",
    "    df = spark_df.select([F.count(F.when(F.isnan(c) | F.isnull(c), c)).alias(c) for (c,c_type) in spark_df.dtypes]).toPandas()\n",
    "    if len(df) == 0:\n",
    "        return None\n",
    "    return df\n",
    "count_missing(analysis_data)"
   ]
  },
  {
   "cell_type": "markdown",
   "metadata": {
    "colab_type": "text",
    "id": "WgPhBltrK9QA"
   },
   "source": [
    "Check datatype of all columns in the dataset"
   ]
  },
  {
   "cell_type": "code",
   "execution_count": null,
   "metadata": {
    "colab": {},
    "colab_type": "code",
    "id": "4LZKfhw-YErN"
   },
   "outputs": [],
   "source": [
    "#See data types\n",
    "for (c,c_type) in analysis_data.dtypes:\n",
    "  print(\"{} : {}\".format(c, c_type))"
   ]
  },
  {
   "cell_type": "code",
   "execution_count": 111,
   "metadata": {
    "colab": {},
    "colab_type": "code",
    "id": "yhyusKjVTFXg"
   },
   "outputs": [],
   "source": [
    "#drop nulls\n",
    "analysis_data = analysis_data.dropna()"
   ]
  },
  {
   "cell_type": "code",
   "execution_count": null,
   "metadata": {
    "colab": {},
    "colab_type": "code",
    "id": "io8dOWrJye6F"
   },
   "outputs": [],
   "source": [
    "#get the idea of the data distribution\n",
    "for feature in features:\n",
    "  analysis_data.groupBy(feature).count().show()"
   ]
  },
  {
   "cell_type": "code",
   "execution_count": 128,
   "metadata": {
    "colab": {},
    "colab_type": "code",
    "id": "wuHbNN5RTaWs"
   },
   "outputs": [],
   "source": [
    "# buckets for salary\n",
    "from pyspark.ml.feature import Bucketizer\n",
    "bucketizer = Bucketizer(splits=[ 20000, 50000, 80000, 130000 , 160000, 190000 , 200000, 1600000,  float('Inf') ],inputCol=\"AMT_INCOME_TOTAL\", outputCol=\"Income_Buckets\")\n",
    "analysis_data = bucketizer.setHandleInvalid(\"keep\").transform(analysis_data)\n",
    "analysis_data = analysis_data.withColumn(\"Income_Buckets\", analysis_data[\"Income_Buckets\"].cast(IntegerType()))"
   ]
  },
  {
   "cell_type": "code",
   "execution_count": 113,
   "metadata": {
    "colab": {},
    "colab_type": "code",
    "id": "LJ-3Mum7v3uU"
   },
   "outputs": [],
   "source": [
    "# divide CNT_children in 0,1,2, rest\n",
    "analysis_data = analysis_data.withColumn('CNT_CHILDREN', F.when( (F.col(\"CNT_CHILDREN\") <=2), F.col(\"CNT_CHILDREN\")).otherwise(3))"
   ]
  },
  {
   "cell_type": "code",
   "execution_count": 114,
   "metadata": {
    "colab": {},
    "colab_type": "code",
    "id": "_M0-cgcFwZpD"
   },
   "outputs": [],
   "source": [
    "# divide CNT_children in 1,2,3,4, rest\n",
    "analysis_data = analysis_data.withColumn('CNT_FAM_MEMBERS', F.when( (F.col(\"CNT_FAM_MEMBERS\") <=4), F.col(\"CNT_FAM_MEMBERS\")).otherwise(5))"
   ]
  },
  {
   "cell_type": "code",
   "execution_count": 115,
   "metadata": {
    "colab": {},
    "colab_type": "code",
    "id": "mJskk__q1_SB"
   },
   "outputs": [],
   "source": [
    "#Convert days to yrs\n",
    "analysis_data = analysis_data.withColumn('DAYS_BIRTH', -F.floor(F.col('DAYS_BIRTH')/365))"
   ]
  },
  {
   "cell_type": "code",
   "execution_count": 116,
   "metadata": {
    "colab": {},
    "colab_type": "code",
    "id": "9r5yfblX5per"
   },
   "outputs": [],
   "source": [
    "#bucket for age\n",
    "bucketizer = Bucketizer(splits=[ 0, 30, 40, 50, 60, float('Inf') ],inputCol=\"DAYS_BIRTH\", outputCol=\"Age_Buckets\")\n",
    "analysis_data = bucketizer.setHandleInvalid(\"keep\").transform(analysis_data)\n",
    "analysis_data = analysis_data.withColumn(\"Age_Buckets\", analysis_data[\"Age_Buckets\"].cast(IntegerType()))"
   ]
  },
  {
   "cell_type": "code",
   "execution_count": 117,
   "metadata": {
    "colab": {},
    "colab_type": "code",
    "id": "22I1R0r_2N3C"
   },
   "outputs": [],
   "source": [
    "#Convert days to yrs\n",
    "analysis_data = analysis_data.withColumn('DAYS_EMPLOYED', -F.floor(F.col('DAYS_EMPLOYED')/365))"
   ]
  },
  {
   "cell_type": "code",
   "execution_count": 118,
   "metadata": {
    "colab": {},
    "colab_type": "code",
    "id": "6pjD6wNS6K09"
   },
   "outputs": [],
   "source": [
    "#bucket for Work exp\n",
    "bucketizer = Bucketizer(splits=[ 0, 5, 10, 20, 30, 40, float('Inf') ],inputCol=\"DAYS_EMPLOYED\", outputCol=\"Exp_Buckets\")\n",
    "analysis_data = bucketizer.setHandleInvalid(\"keep\").transform(analysis_data)\n",
    "analysis_data = analysis_data.withColumn(\"Exp_Buckets\", analysis_data[\"Exp_Buckets\"].cast(IntegerType()))"
   ]
  },
  {
   "cell_type": "code",
   "execution_count": 119,
   "metadata": {
    "colab": {},
    "colab_type": "code",
    "id": "-rij5aI2sLRb"
   },
   "outputs": [],
   "source": [
    "# Function for WOE\n",
    "def woe(event, non_event):\n",
    "  all_events=event+non_event\n",
    "  if non_event==0:\n",
    "    return math.log(event/total_event)\n",
    "  else:\n",
    "    return math.log((event/total_event)/(non_event/total_non_event))\n",
    "get_woe = F.udf(woe, FloatType())\n",
    "\n",
    "# Function for IV\n",
    "def iv(event, non_event, woe):\n",
    "  all_events = event+non_event\n",
    "  value = ((event/total_event)-(non_event/total_non_event))*woe\n",
    "  return value\n",
    "\n",
    "get_iv = F.udf(iv, FloatType())\n"
   ]
  },
  {
   "cell_type": "code",
   "execution_count": 120,
   "metadata": {
    "colab": {},
    "colab_type": "code",
    "id": "cOVW9B9kAdxb"
   },
   "outputs": [],
   "source": [
    "#For all features calculate WOE and IV\n",
    "features = ['CODE_GENDER', 'FLAG_OWN_CAR', 'FLAG_OWN_REALTY', 'FLAG_EMAIL', 'FLAG_WORK_PHONE', 'FLAG_PHONE', 'NAME_HOUSING_TYPE', 'OCCUPATION_TYPE','NAME_FAMILY_STATUS','Income_Buckets', 'CNT_CHILDREN', 'CNT_FAM_MEMBERS','Age_Buckets','Exp_Buckets' ]"
   ]
  },
  {
   "cell_type": "code",
   "execution_count": 121,
   "metadata": {
    "colab": {
     "base_uri": "https://localhost:8080/",
     "height": 1000
    },
    "colab_type": "code",
    "id": "NZH6gexfAnDy",
    "outputId": "a5788ed9-1c99-4b6e-99fc-ae542b2f391b"
   },
   "outputs": [
    {
     "name": "stdout",
     "output_type": "stream",
     "text": [
      "+-----------+-----+---------+-----------+-----------+\n",
      "|CODE_GENDER|Event|Non-Event|        WOE|         IV|\n",
      "+-----------+-----+---------+-----------+-----------+\n",
      "|          F|15400|      230| 0.13400456| 0.01047317|\n",
      "|          M| 9312|      192|-0.18847512|0.014730334|\n",
      "+-----------+-----+---------+-----------+-----------+\n",
      "\n",
      "+------------+-----+---------+-------------+------------+\n",
      "|FLAG_OWN_CAR|Event|Non-Event|          WOE|          IV|\n",
      "+------------+-----+---------+-------------+------------+\n",
      "|           Y|10339|      177|-0.0025102214| 2.639611E-6|\n",
      "|           N|14373|      245| 0.0018095945|1.9028702E-6|\n",
      "+------------+-----+---------+-------------+------------+\n",
      "\n",
      "+---------------+-----+---------+-----------+-----------+\n",
      "|FLAG_OWN_REALTY|Event|Non-Event|        WOE|         IV|\n",
      "+---------------+-----+---------+-----------+-----------+\n",
      "|              Y|16218|      243| 0.13077666|0.010521108|\n",
      "|              N| 8494|      179|-0.21030942|0.016919596|\n",
      "+---------------+-----+---------+-----------+-----------+\n",
      "\n",
      "+----------+-----+---------+------------+------------+\n",
      "|FLAG_EMAIL|Event|Non-Event|         WOE|          IV|\n",
      "+----------+-----+---------+------------+------------+\n",
      "|         1| 2487|       43|-0.012406592|1.5587259E-5|\n",
      "|         0|22225|      379|0.0013979347| 1.756322E-6|\n",
      "+----------+-----+---------+------------+------------+\n",
      "\n",
      "+---------------+-----+---------+-----------+------------+\n",
      "|FLAG_WORK_PHONE|Event|Non-Event|        WOE|          IV|\n",
      "+---------------+-----+---------+-----------+------------+\n",
      "|              1| 6758|      124|-0.07183822|0.0014632357|\n",
      "|              0|17954|      298|0.028435804| 5.791942E-4|\n",
      "+---------------+-----+---------+-----------+------------+\n",
      "\n",
      "+----------+-----+---------+------------+------------+\n",
      "|FLAG_PHONE|Event|Non-Event|         WOE|          IV|\n",
      "+----------+-----+---------+------------+------------+\n",
      "|         1| 7231|      128|-0.035936568|3.8476055E-4|\n",
      "|         0|17481|      294| 0.015251168|1.6328905E-4|\n",
      "+----------+-----+---------+------------+------------+\n",
      "\n",
      "+-------------------+-----+---------+------------+------------+\n",
      "|  NAME_HOUSING_TYPE|Event|Non-Event|         WOE|          IV|\n",
      "+-------------------+-----+---------+------------+------------+\n",
      "|  House / apartment|21738|      364| 0.019624371|3.3546623E-4|\n",
      "|Municipal apartment|  793|       19| -0.33865467|0.0043801675|\n",
      "|    Co-op apartment|  149|        3|  -0.1647049|1.7780642E-4|\n",
      "|   Rented apartment|  433|        6|  0.20893934|6.9030264E-4|\n",
      "|   Office apartment|  194|        5| -0.41161868|0.0016456121|\n",
      "|       With parents| 1405|       25|-0.041122165|9.8147786E-5|\n",
      "+-------------------+-----+---------+------------+------------+\n",
      "\n",
      "+--------------------+-----+---------+-----------+------------+\n",
      "|     OCCUPATION_TYPE|Event|Non-Event|        WOE|          IV|\n",
      "+--------------------+-----+---------+-----------+------------+\n",
      "|            Managers| 2965|       47| 0.07444579|6.4081355E-4|\n",
      "|            HR staff|   84|        1| 0.36077788|3.7141723E-4|\n",
      "|      Medicine staff| 1197|       10| 0.71494967| 0.017688802|\n",
      "|         Accountants| 1218|       23|-0.10056769| 5.244177E-4|\n",
      "|            Laborers| 6112|       99| 0.05285056| 6.728974E-4|\n",
      "|      Cleaning staff|  546|        5|  0.6231421|0.0063848314|\n",
      "|Private service s...|  342|        2|  1.0716246| 0.009751884|\n",
      "|             Drivers| 2089|       49|-0.31741846| 0.010024047|\n",
      "|         Sales staff| 3440|       45| 0.26652533| 0.008680345|\n",
      "|       Realty agents|   79|        0| -5.7455964| -0.01836768|\n",
      "|            IT staff|   57|        3|    -1.1256|0.0054056183|\n",
      "|      Security staff|  579|       13| -0.2736858| 0.002018645|\n",
      "|         Secretaries|  149|        2|  0.2407602|3.1061025E-4|\n",
      "|  Low-skill Laborers|  167|        8| -1.0314866| 0.012583616|\n",
      "|          Core staff| 3517|       74|-0.20874038|0.0068959324|\n",
      "|       Cooking staff|  646|        9|   0.203536| 9.798491E-4|\n",
      "|High skill tech s...| 1353|       30|-0.26115668| 0.004267122|\n",
      "|Waiters/barmen staff|  172|        2| 0.38430837| 8.534892E-4|\n",
      "+--------------------+-----+---------+-----------+------------+\n",
      "\n",
      "+--------------------+-----+---------+-----------+------------+\n",
      "|  NAME_FAMILY_STATUS|Event|Non-Event|        WOE|          IV|\n",
      "+--------------------+-----+---------+-----------+------------+\n",
      "|           Separated| 1452|       15| 0.50260806| 0.011666466|\n",
      "|             Married|17232|      277| 0.06046697|0.0024740025|\n",
      "|Single / not married| 3362|       83| -0.3685882|  0.02234942|\n",
      "|               Widow|  565|       15|-0.44126338| 0.005595942|\n",
      "|      Civil marriage| 2101|       32|0.114393875|0.0010512843|\n",
      "+--------------------+-----+---------+-----------+------------+\n",
      "\n",
      "+------------------------+-----+---------+-----------+------------+\n",
      "|AMT_INCOME_TOTAL_Buckets|Event|Non-Event|        WOE|          IV|\n",
      "+------------------------+-----+---------+-----------+------------+\n",
      "|                     0.0|  105|        2|-0.10922575|5.3563064E-5|\n",
      "|                     1.0|  892|       13| 0.15847786|8.3836954E-4|\n",
      "|                     4.0| 2980|       44| 0.14545003| 0.002374295|\n",
      "|                     3.0| 5849|       88| 0.12665024| 0.003565942|\n",
      "|                     2.0| 4784|       78| 0.04628455|4.0526915E-4|\n",
      "|                     6.0| 9952|      194|-0.13236827| 0.007544503|\n",
      "|                     5.0|  150|        3|-0.15801592|1.6419106E-4|\n",
      "+------------------------+-----+---------+-----------+------------+\n",
      "\n",
      "+------------+-----+---------+------------+------------+\n",
      "|CNT_CHILDREN|Event|Non-Event|         WOE|          IV|\n",
      "+------------+-----+---------+------------+------------+\n",
      "|           1| 6021|       97|  0.05825874| 8.033292E-4|\n",
      "|           3|  381|       12|  -0.6121462| 0.007969169|\n",
      "|           2| 2675|       40|  0.13278629|  0.00178734|\n",
      "|           0|15635|      273|-0.022243446|3.1654333E-4|\n",
      "+------------+-----+---------+------------+------------+\n",
      "\n",
      "+---------------+-----+---------+-----------+------------+\n",
      "|CNT_FAM_MEMBERS|Event|Non-Event|        WOE|          IV|\n",
      "+---------------+-----+---------+-----------+------------+\n",
      "|            1.0| 4179|       84|-0.16302846|0.0048817256|\n",
      "|            4.0| 2540|       36|  0.1863615|0.0032568567|\n",
      "|            3.0| 5134|       82| 0.06688219| 8.989316E-4|\n",
      "|            2.0|12489|      208|0.025026536| 3.126066E-4|\n",
      "|            5.0|  370|       12|-0.64144254| 0.008636084|\n",
      "+---------------+-----+---------+-----------+------------+\n",
      "\n",
      "+-----------+-----+---------+-----------+------------+\n",
      "|Age_Buckets|Event|Non-Event|        WOE|          IV|\n",
      "+-----------+-----+---------+-----------+------------+\n",
      "|        0.0| 3152|       63|-0.15738119|0.0034214247|\n",
      "|        1.0| 8456|      141|0.023832716|1.9206102E-4|\n",
      "|        4.0|  790|        4|  1.2156997| 0.027340602|\n",
      "|        3.0| 4522|       91|-0.16418877| 0.005361057|\n",
      "|        2.0| 7792|      123| 0.07862957|0.0018747809|\n",
      "+-----------+-----+---------+-----------+------------+\n",
      "\n",
      "+-----------+-----+---------+-----------+------------+\n",
      "|Exp_Buckets|Event|Non-Event|        WOE|          IV|\n",
      "+-----------+-----+---------+-----------+------------+\n",
      "|        0.0| 9314|      219|-0.31983674| 0.045434546|\n",
      "|        1.0| 8602|      119|  0.2105876| 0.013919731|\n",
      "|        4.0|  279|        0| -4.4838324|-0.050622743|\n",
      "|        3.0| 1313|       16| 0.33744222|0.0051349895|\n",
      "|        2.0| 5172|       68|  0.2614681| 0.012590629|\n",
      "|        5.0|   32|        0|  -6.649308|-0.008610305|\n",
      "+-----------+-----+---------+-----------+------------+\n",
      "\n"
     ]
    }
   ],
   "source": [
    "global total_event\n",
    "global total_non_event\n",
    "total_event = analysis_data.filter(F.col(\"Target\")=='0').count()\n",
    "total_non_event = analysis_data.filter(F.col(\"Target\")=='1').count()\n",
    "\n",
    "for feature in features:\n",
    "  fn_input = analysis_data.select(feature,'Target')\n",
    "  fn_input = fn_input.groupBy(feature, 'Target').count()\n",
    "  pivotDF = fn_input.groupBy(feature,\"Target\").sum(\"count\").groupBy(feature).pivot(\"Target\").sum(\"sum(count)\")\n",
    "  newColumns = [feature,\"Event\", \"Non-Event\"]\n",
    "  pivotDF = pivotDF.toDF(*newColumns)\n",
    "  pivotDF = pivotDF.na.fill(0)\n",
    "  res = pivotDF.withColumn('WOE', get_woe(F.col('Event'), F.col('Non-Event'))).withColumn('IV', get_iv(F.col('Event'), F.col('Non-Event'), F.col('WOE')))\n",
    "  res.show()"
   ]
  },
  {
   "cell_type": "code",
   "execution_count": 130,
   "metadata": {
    "colab": {},
    "colab_type": "code",
    "id": "K3U1IlZ5HKZW"
   },
   "outputs": [],
   "source": [
    "from pyspark.ml.evaluation import RegressionEvaluator\n",
    "from pyspark.ml.recommendation import ALS\n",
    "from pyspark.ml.feature import StringIndexer\n",
    "from pyspark.ml.feature import OneHotEncoderEstimator\n",
    "from pyspark.ml.feature import VectorAssembler\n",
    "from pyspark.ml import Pipeline\n",
    "from pyspark.ml.classification import LogisticRegression"
   ]
  },
  {
   "cell_type": "code",
   "execution_count": 140,
   "metadata": {
    "colab": {},
    "colab_type": "code",
    "id": "3YW71RtlCK7D"
   },
   "outputs": [],
   "source": [
    "housing_indexr = StringIndexer(inputCol='NAME_HOUSING_TYPE',   outputCol='NAME_HOUSING_TYPE_idx')      \n",
    "family_indexr = StringIndexer(inputCol='NAME_FAMILY_STATUS',   outputCol='NAME_FAMILY_STATUS_idx')      \n",
    "gender_indexer = StringIndexer(inputCol='CODE_GENDER',   outputCol='CODE_GENDER_idx')      \n",
    "income_indexer = StringIndexer(inputCol='NAME_INCOME_TYPE',   outputCol='NAME_INCOME_TYPE_idx')      \n",
    "\n",
    "one_hot_encoder = OneHotEncoderEstimator(inputCols=['NAME_HOUSING_TYPE_idx' ,'NAME_FAMILY_STATUS_idx',  'CODE_GENDER_idx', 'NAME_INCOME_TYPE_idx'],\n",
    "                             outputCols=['OCCUPATION_TYPE_Enc' ,'NAME_FAMILY_STATUS_Enc', 'CODE_GENDER_Enc', 'NAME_INCOME_TYPE_Enc'])\n",
    "assembler = VectorAssembler(inputCols=['OCCUPATION_TYPE_Enc' ,'NAME_FAMILY_STATUS_Enc', 'CODE_GENDER_Enc', 'NAME_INCOME_TYPE_Enc',\"Income_Buckets\", \"Age_Buckets\", \"CNT_FAM_MEMBERS\"],\n",
    "                            outputCol=\"features\")\n",
    "\n",
    "pipeline = Pipeline(stages=[housing_indexr,family_indexr,gender_indexer,income_indexer, one_hot_encoder, assembler])\n",
    "\n",
    "anlysis_data_input = pipeline.fit(analysis_data).transform(analysis_data)"
   ]
  },
  {
   "cell_type": "code",
   "execution_count": 141,
   "metadata": {
    "colab": {},
    "colab_type": "code",
    "id": "NB6E0ox0I_yn"
   },
   "outputs": [],
   "source": [
    "#Split data into train and Test\n",
    "train, test = anlysis_data_input.randomSplit([0.7,0.3])"
   ]
  },
  {
   "cell_type": "code",
   "execution_count": 142,
   "metadata": {
    "colab": {
     "base_uri": "https://localhost:8080/",
     "height": 34
    },
    "colab_type": "code",
    "id": "-Kd-5YFAH_wr",
    "outputId": "48aee17c-cb73-4b29-9d03-7120438a36ed"
   },
   "outputs": [
    {
     "data": {
      "text/plain": [
       "[1.0, 0.064]"
      ]
     },
     "execution_count": 142,
     "metadata": {
      "tags": []
     },
     "output_type": "execute_result"
    }
   ],
   "source": [
    "#Logistic Regression model\n",
    "lr = LogisticRegression(featuresCol='features', labelCol='Target')\n",
    "model = lr.fit(train)\n",
    "evaluation = model.evaluate(test)\n",
    "evaluation.recallByLabel"
   ]
  },
  {
   "cell_type": "code",
   "execution_count": 144,
   "metadata": {
    "colab": {
     "base_uri": "https://localhost:8080/",
     "height": 34
    },
    "colab_type": "code",
    "id": "0ue81NViIj3D",
    "outputId": "7a37007e-bbca-4923-94ee-2d3d5136ffd8"
   },
   "outputs": [
    {
     "data": {
      "text/plain": [
       "0.9845727848101266"
      ]
     },
     "execution_count": 144,
     "metadata": {
      "tags": []
     },
     "output_type": "execute_result"
    }
   ],
   "source": [
    "evaluation.accuracy"
   ]
  },
  {
   "cell_type": "code",
   "execution_count": 145,
   "metadata": {
    "colab": {
     "base_uri": "https://localhost:8080/",
     "height": 34
    },
    "colab_type": "code",
    "id": "Hs6lVp8-LNSb",
    "outputId": "c79ea0b9-4242-4e8f-b2d5-5f60a0f526f7"
   },
   "outputs": [
    {
     "data": {
      "text/plain": [
       "0.560657997050543"
      ]
     },
     "execution_count": 145,
     "metadata": {
      "tags": []
     },
     "output_type": "execute_result"
    }
   ],
   "source": [
    "evaluation.areaUnderROC"
   ]
  },
  {
   "cell_type": "code",
   "execution_count": 155,
   "metadata": {
    "colab": {},
    "colab_type": "code",
    "id": "rk2Qva0dO9nS"
   },
   "outputs": [],
   "source": [
    "preds_and_targets  = evaluation.predictions.select(['prediction', 'Target'])"
   ]
  },
  {
   "cell_type": "code",
   "execution_count": 157,
   "metadata": {
    "colab": {
     "base_uri": "https://localhost:8080/",
     "height": 153
    },
    "colab_type": "code",
    "id": "XMcwAIsKPR7I",
    "outputId": "5c0d7a81-7cc4-4807-beac-fd79449a57a4"
   },
   "outputs": [
    {
     "name": "stdout",
     "output_type": "stream",
     "text": [
      "+----------+------+-----+\n",
      "|prediction|Target|count|\n",
      "+----------+------+-----+\n",
      "|       0.0|     0| 7459|\n",
      "|       0.0|     1|  117|\n",
      "|       1.0|     1|    8|\n",
      "+----------+------+-----+\n",
      "\n"
     ]
    }
   ],
   "source": [
    "#Print confusion metrics\n",
    "preds_and_targets.groupBy('prediction', 'Target').count().show()"
   ]
  },
  {
   "cell_type": "code",
   "execution_count": 159,
   "metadata": {
    "colab": {
     "base_uri": "https://localhost:8080/",
     "height": 51
    },
    "colab_type": "code",
    "id": "xm8AZRaNOL1s",
    "outputId": "820a1b76-4543-44ac-8628-b989816ac82b"
   },
   "outputs": [
    {
     "name": "stdout",
     "output_type": "stream",
     "text": [
      "Recall: 0.064\n",
      "Precision: 1.0\n"
     ]
    }
   ],
   "source": [
    "tp = preds_and_targets[(preds_and_targets.Target == 1) & (preds_and_targets.prediction == 1)].count()\n",
    "tn = preds_and_targets[(preds_and_targets.Target == 0) & (preds_and_targets.prediction == 0)].count()\n",
    "fp = preds_and_targets[(preds_and_targets.Target == 0) & (preds_and_targets.prediction == 1)].count()\n",
    "fn = preds_and_targets[(preds_and_targets.Target == 1) & (preds_and_targets.prediction == 0)].count()\n",
    "\n",
    "r = float(tp)/(tp + fn)\n",
    "print(\"Recall: {}\".format(r))\n",
    "\n",
    "p = float(tp) / (tp + fp)\n",
    "print(\"Precision: {}\".format(p))\n"
   ]
  }
 ],
 "metadata": {
  "colab": {
   "collapsed_sections": [],
   "name": "CCAM.ipynb",
   "provenance": []
  },
  "kernelspec": {
   "display_name": "Python 3",
   "language": "python",
   "name": "python3"
  },
  "language_info": {
   "codemirror_mode": {
    "name": "ipython",
    "version": 3
   },
   "file_extension": ".py",
   "mimetype": "text/x-python",
   "name": "python",
   "nbconvert_exporter": "python",
   "pygments_lexer": "ipython3",
   "version": "3.8.3"
  }
 },
 "nbformat": 4,
 "nbformat_minor": 1
}
